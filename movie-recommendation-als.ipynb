{
 "cells": [
  {
   "cell_type": "code",
   "execution_count": 1,
   "metadata": {
    "collapsed": true
   },
   "outputs": [],
   "source": [
    "import sys\n",
    "from pyspark import SparkConf,SparkContext\n",
    "from pyspark.mllib.recommendation import ALS,Rating"
   ]
  },
  {
   "cell_type": "code",
   "execution_count": 14,
   "metadata": {
    "collapsed": false
   },
   "outputs": [
    {
     "name": "stdout",
     "output_type": "stream",
     "text": [
      "\n",
      "Loading movie names...\n"
     ]
    }
   ],
   "source": [
    "\n",
    "def loadMovieNames():\n",
    "    movieNames = {}\n",
    "    with open(\"///home/admin/Desktop/Frank-Kanes/ml-100k/u.item\") as f:\n",
    "        for line in f:\n",
    "            fields = line.split('|')\n",
    "            movieNames[int(fields[0])] = fields[1].decode('ascii', 'ignore')\n",
    "    return movieNames\n",
    "\n",
    "#conf = SparkConf().setMaster(\"local[*]\").setAppName(\"MovieRecommendationsALS\")\n",
    "#sc = SparkContext(conf = conf)\n",
    "#sc.setCheckpointDir('checkpoint')\n",
    "\n",
    "print(\"\\nLoading movie names...\")\n",
    "nameDict = loadMovieNames()"
   ]
  },
  {
   "cell_type": "code",
   "execution_count": 2,
   "metadata": {
    "collapsed": true
   },
   "outputs": [],
   "source": [
    "data=sc.textFile(\"file:///home/admin/Desktop/Frank-Kanes/ml-100k/u.data\")"
   ]
  },
  {
   "cell_type": "code",
   "execution_count": 6,
   "metadata": {
    "collapsed": false
   },
   "outputs": [],
   "source": [
    "ratings=data.map(lambda l : l.split()).map(lambda l : Rating(int(l[0]), int(l[1]), \n",
    "                                           float(l[2]))).cache()"
   ]
  },
  {
   "cell_type": "code",
   "execution_count": 16,
   "metadata": {
    "collapsed": false
   },
   "outputs": [],
   "source": [
    "rank=10\n",
    "numIterations=20\n"
   ]
  },
  {
   "cell_type": "code",
   "execution_count": 18,
   "metadata": {
    "collapsed": false
   },
   "outputs": [],
   "source": [
    "recommendations=model.recommendProducts(0,10)"
   ]
  },
  {
   "cell_type": "code",
   "execution_count": 19,
   "metadata": {
    "collapsed": false
   },
   "outputs": [
    {
     "name": "stdout",
     "output_type": "stream",
     "text": [
      "Faithful (1996) 6.86967687306\n",
      "Crooklyn (1994) 6.86343093381\n",
      "Withnail and I (1987) 6.52029834245\n",
      "Bitter Moon (1992) 6.36346301814\n",
      "Endless Summer 2, The (1994) 6.35847883251\n",
      "Spice World (1997) 6.07693703789\n",
      "Shall We Dance? (1937) 6.06989506622\n",
      "Cemetery Man (Dellamorte Dellamore) (1994) 5.82328501041\n",
      "Microcosmos: Le peuple de l'herbe (1996) 5.71173524586\n",
      "Winter Guest, The (1997) 5.54054710236\n"
     ]
    }
   ],
   "source": [
    "for recommendation in recommendations:\n",
    "    print(nameDict[recommendation[1]] + ' ' + str(recommendation[2]))"
   ]
  },
  {
   "cell_type": "code",
   "execution_count": null,
   "metadata": {
    "collapsed": true
   },
   "outputs": [],
   "source": []
  }
 ],
 "metadata": {
  "kernelspec": {
   "display_name": "Python 2",
   "language": "python",
   "name": "python2"
  },
  "language_info": {
   "codemirror_mode": {
    "name": "ipython",
    "version": 2
   },
   "file_extension": ".py",
   "mimetype": "text/x-python",
   "name": "python",
   "nbconvert_exporter": "python",
   "pygments_lexer": "ipython2",
   "version": "2.7.13"
  }
 },
 "nbformat": 4,
 "nbformat_minor": 2
}
